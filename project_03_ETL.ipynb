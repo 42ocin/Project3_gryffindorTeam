{
 "cells": [
  {
   "cell_type": "markdown",
   "id": "69fa7e48-0ef8-43fb-9b17-c7c7fa2105ef",
   "metadata": {},
   "source": [
    "# Project 03 - Crime"
   ]
  },
  {
   "cell_type": "code",
   "execution_count": 2,
   "id": "57500886-0258-43db-981d-26646c57e3dc",
   "metadata": {},
   "outputs": [
    {
     "name": "stderr",
     "output_type": "stream",
     "text": [
      "2024-07-16 20:53:30,342 -  DEBUG -  Start of program\n"
     ]
    }
   ],
   "source": [
    "from datetime import datetime\n",
    "import pandas as pd\n",
    "import json\n",
    "import pprint\n",
    "import logging\n",
    "logging.basicConfig(level=logging.DEBUG, format='%(asctime)s -  %(levelname)s -  %(message)s')\n",
    "logging.debug('Start of program')\n",
    "# logging.disable(logging.CRITICAL) # Uncomment when done debugging."
   ]
  },
  {
   "cell_type": "code",
   "execution_count": 3,
   "id": "fdea0fa9-df5d-4176-abc5-0a6b12f81918",
   "metadata": {},
   "outputs": [
    {
     "name": "stderr",
     "output_type": "stream",
     "text": [
      "2024-07-16 20:53:31,744 -  DEBUG -  Dataset loaded in successfully.\n"
     ]
    }
   ],
   "source": [
    "try:\n",
    "    dataset = pd.read_csv(\"CMPD_Incidents_raw_data.csv\")\n",
    "    logging.debug(\"Dataset loaded in successfully.\")\n",
    "    dataset.head()\n",
    "except:\n",
    "    logging.error(\"Dataset failed to be read in to pandas dataframe.\")"
   ]
  },
  {
   "cell_type": "code",
   "execution_count": 4,
   "id": "db6cb84d-00be-4adc-81e5-acf21586cc89",
   "metadata": {},
   "outputs": [
    {
     "data": {
      "text/plain": [
       "X                              int64\n",
       "Y                            float64\n",
       "YEAR                           int64\n",
       "INCIDENT_REPORT_ID            object\n",
       "LOCATION                      object\n",
       "CITY                          object\n",
       "STATE                         object\n",
       "ZIP                          float64\n",
       "X_COORD_PUBLIC                 int64\n",
       "Y_COORD_PUBLIC                 int64\n",
       "LATITUDE_PUBLIC              float64\n",
       "LONGITUDE_PUBLIC             float64\n",
       "DIVISION_ID                   object\n",
       "CMPD_PATROL_DIVISION          object\n",
       "NPA                            int64\n",
       "DATE_REPORTED                 object\n",
       "DATE_INCIDENT_BEGAN           object\n",
       "DATE_INCIDENT_END             object\n",
       "ADDRESS_DESCRIPTION           object\n",
       "LOCATION_TYPE_DESCRIPTION     object\n",
       "PLACE_TYPE_DESCRIPTION        object\n",
       "PLACE_DETAIL_DESCRIPTION      object\n",
       "CLEARANCE_STATUS              object\n",
       "CLEARANCE_DETAIL_STATUS       object\n",
       "CLEARANCE_DATE                object\n",
       "HIGHEST_NIBRS_CODE            object\n",
       "HIGHEST_NIBRS_DESCRIPTION     object\n",
       "OBJECTID                       int64\n",
       "GlobalID                      object\n",
       "dtype: object"
      ]
     },
     "execution_count": 4,
     "metadata": {},
     "output_type": "execute_result"
    }
   ],
   "source": [
    "dataset.dtypes"
   ]
  },
  {
   "cell_type": "code",
   "execution_count": 5,
   "id": "51acfab0-1679-4523-83ed-5c0fe30f9e8f",
   "metadata": {},
   "outputs": [
    {
     "name": "stderr",
     "output_type": "stream",
     "text": [
      "2024-07-16 20:53:31,773 -  DEBUG -  Our chosen columns to filter for our dataset.\n"
     ]
    }
   ],
   "source": [
    "logging.debug(\"Our chosen columns to filter for our dataset.\")\n",
    "cols = [\"YEAR\",\n",
    "        \"LOCATION\",\n",
    "        \"LATITUDE_PUBLIC\",\n",
    "        \"LONGITUDE_PUBLIC\",\n",
    "        \"CMPD_PATROL_DIVISION\",\n",
    "        \"DATE_REPORTED\",\n",
    "        \"ADDRESS_DESCRIPTION\",\n",
    "        \"LOCATION_TYPE_DESCRIPTION\",\n",
    "        \"PLACE_TYPE_DESCRIPTION\",\n",
    "        \"PLACE_DETAIL_DESCRIPTION\",\n",
    "        \"CLEARANCE_STATUS\",\n",
    "        \"HIGHEST_NIBRS_DESCRIPTION\",\n",
    "        \"OBJECTID\"]"
   ]
  },
  {
   "cell_type": "code",
   "execution_count": 6,
   "id": "b16df4a5-b318-4b86-bf37-68d4a52c03f0",
   "metadata": {},
   "outputs": [
    {
     "name": "stderr",
     "output_type": "stream",
     "text": [
      "2024-07-16 20:53:31,783 -  DEBUG -  Filtering out unneeded columns.\n"
     ]
    },
    {
     "data": {
      "text/html": [
       "<div>\n",
       "<style scoped>\n",
       "    .dataframe tbody tr th:only-of-type {\n",
       "        vertical-align: middle;\n",
       "    }\n",
       "\n",
       "    .dataframe tbody tr th {\n",
       "        vertical-align: top;\n",
       "    }\n",
       "\n",
       "    .dataframe thead th {\n",
       "        text-align: right;\n",
       "    }\n",
       "</style>\n",
       "<table border=\"1\" class=\"dataframe\">\n",
       "  <thead>\n",
       "    <tr style=\"text-align: right;\">\n",
       "      <th></th>\n",
       "      <th>YEAR</th>\n",
       "      <th>LOCATION</th>\n",
       "      <th>LATITUDE_PUBLIC</th>\n",
       "      <th>LONGITUDE_PUBLIC</th>\n",
       "      <th>CMPD_PATROL_DIVISION</th>\n",
       "      <th>DATE_REPORTED</th>\n",
       "      <th>ADDRESS_DESCRIPTION</th>\n",
       "      <th>LOCATION_TYPE_DESCRIPTION</th>\n",
       "      <th>PLACE_TYPE_DESCRIPTION</th>\n",
       "      <th>PLACE_DETAIL_DESCRIPTION</th>\n",
       "      <th>CLEARANCE_STATUS</th>\n",
       "      <th>HIGHEST_NIBRS_DESCRIPTION</th>\n",
       "      <th>OBJECTID</th>\n",
       "    </tr>\n",
       "  </thead>\n",
       "  <tbody>\n",
       "    <tr>\n",
       "      <th>0</th>\n",
       "      <td>2023</td>\n",
       "      <td>3500 STATESVILLE AV</td>\n",
       "      <td>35.266384</td>\n",
       "      <td>-80.837353</td>\n",
       "      <td>Metro</td>\n",
       "      <td>2023/08/10 00:00:00+00</td>\n",
       "      <td>Location of occurrence</td>\n",
       "      <td>Outdoors</td>\n",
       "      <td>Retail</td>\n",
       "      <td>Convenience Store</td>\n",
       "      <td>Cleared by Arrest</td>\n",
       "      <td>Aggravated Assault</td>\n",
       "      <td>4</td>\n",
       "    </tr>\n",
       "    <tr>\n",
       "      <th>1</th>\n",
       "      <td>2023</td>\n",
       "      <td>600 KEY ST</td>\n",
       "      <td>35.256409</td>\n",
       "      <td>-80.890667</td>\n",
       "      <td>Freedom</td>\n",
       "      <td>2023/09/14 00:00:00+00</td>\n",
       "      <td>Location of occurrence</td>\n",
       "      <td>Indoors</td>\n",
       "      <td>Residential</td>\n",
       "      <td>Private Residence</td>\n",
       "      <td>Cleared by Arrest</td>\n",
       "      <td>Simple Assault</td>\n",
       "      <td>5</td>\n",
       "    </tr>\n",
       "  </tbody>\n",
       "</table>\n",
       "</div>"
      ],
      "text/plain": [
       "   YEAR             LOCATION  LATITUDE_PUBLIC  LONGITUDE_PUBLIC  \\\n",
       "0  2023  3500 STATESVILLE AV        35.266384        -80.837353   \n",
       "1  2023           600 KEY ST        35.256409        -80.890667   \n",
       "\n",
       "  CMPD_PATROL_DIVISION           DATE_REPORTED     ADDRESS_DESCRIPTION  \\\n",
       "0                Metro  2023/08/10 00:00:00+00  Location of occurrence   \n",
       "1              Freedom  2023/09/14 00:00:00+00  Location of occurrence   \n",
       "\n",
       "  LOCATION_TYPE_DESCRIPTION PLACE_TYPE_DESCRIPTION PLACE_DETAIL_DESCRIPTION  \\\n",
       "0                  Outdoors                 Retail        Convenience Store   \n",
       "1                   Indoors            Residential        Private Residence   \n",
       "\n",
       "    CLEARANCE_STATUS HIGHEST_NIBRS_DESCRIPTION  OBJECTID  \n",
       "0  Cleared by Arrest        Aggravated Assault         4  \n",
       "1  Cleared by Arrest            Simple Assault         5  "
      ]
     },
     "execution_count": 6,
     "metadata": {},
     "output_type": "execute_result"
    }
   ],
   "source": [
    "logging.debug(\"Filtering out unneeded columns.\")\n",
    "dataset = dataset[cols]\n",
    "dataset.head(2)"
   ]
  },
  {
   "cell_type": "code",
   "execution_count": 7,
   "id": "9ea8aeef-03e3-4e58-b542-0875a3fc0e0d",
   "metadata": {},
   "outputs": [
    {
     "name": "stderr",
     "output_type": "stream",
     "text": [
      "2024-07-16 20:53:31,861 -  INFO -  Dataframe has 144832 rows and 13 columns.\n"
     ]
    }
   ],
   "source": [
    "logging.info(f\"Dataframe has {dataset.shape[0]} rows and {dataset.shape[1]} columns.\")"
   ]
  },
  {
   "cell_type": "code",
   "execution_count": 8,
   "id": "93ecd0be-a721-46b1-9116-e0a33cd383b3",
   "metadata": {},
   "outputs": [
    {
     "data": {
      "text/plain": [
       "CLEARANCE_STATUS\n",
       "Open                                   95939\n",
       "Exceptionally Cleared                  25760\n",
       "Cleared by Arrest                      16987\n",
       "Unfounded                               4749\n",
       "Cleared by Arrest by Another Agency     1397\n",
       "Name: count, dtype: int64"
      ]
     },
     "execution_count": 8,
     "metadata": {},
     "output_type": "execute_result"
    }
   ],
   "source": [
    "dataset[\"CLEARANCE_STATUS\"].value_counts()"
   ]
  },
  {
   "cell_type": "code",
   "execution_count": 9,
   "id": "f9a1f8f1-1eda-472e-ac20-bbbc5db6549f",
   "metadata": {},
   "outputs": [
    {
     "name": "stderr",
     "output_type": "stream",
     "text": [
      "2024-07-16 20:53:31,907 -  INFO -  Filtering the 'CLEARANCE_STATUS' column to remove rows with 'Unfounded' as its value\n"
     ]
    },
    {
     "data": {
      "text/html": [
       "<div>\n",
       "<style scoped>\n",
       "    .dataframe tbody tr th:only-of-type {\n",
       "        vertical-align: middle;\n",
       "    }\n",
       "\n",
       "    .dataframe tbody tr th {\n",
       "        vertical-align: top;\n",
       "    }\n",
       "\n",
       "    .dataframe thead th {\n",
       "        text-align: right;\n",
       "    }\n",
       "</style>\n",
       "<table border=\"1\" class=\"dataframe\">\n",
       "  <thead>\n",
       "    <tr style=\"text-align: right;\">\n",
       "      <th></th>\n",
       "      <th>YEAR</th>\n",
       "      <th>LOCATION</th>\n",
       "      <th>LATITUDE_PUBLIC</th>\n",
       "      <th>LONGITUDE_PUBLIC</th>\n",
       "      <th>CMPD_PATROL_DIVISION</th>\n",
       "      <th>DATE_REPORTED</th>\n",
       "      <th>ADDRESS_DESCRIPTION</th>\n",
       "      <th>LOCATION_TYPE_DESCRIPTION</th>\n",
       "      <th>PLACE_TYPE_DESCRIPTION</th>\n",
       "      <th>PLACE_DETAIL_DESCRIPTION</th>\n",
       "      <th>CLEARANCE_STATUS</th>\n",
       "      <th>HIGHEST_NIBRS_DESCRIPTION</th>\n",
       "      <th>OBJECTID</th>\n",
       "    </tr>\n",
       "  </thead>\n",
       "  <tbody>\n",
       "    <tr>\n",
       "      <th>0</th>\n",
       "      <td>2023</td>\n",
       "      <td>3500 STATESVILLE AV</td>\n",
       "      <td>35.266384</td>\n",
       "      <td>-80.837353</td>\n",
       "      <td>Metro</td>\n",
       "      <td>2023/08/10 00:00:00+00</td>\n",
       "      <td>Location of occurrence</td>\n",
       "      <td>Outdoors</td>\n",
       "      <td>Retail</td>\n",
       "      <td>Convenience Store</td>\n",
       "      <td>Cleared by Arrest</td>\n",
       "      <td>Aggravated Assault</td>\n",
       "      <td>4</td>\n",
       "    </tr>\n",
       "    <tr>\n",
       "      <th>1</th>\n",
       "      <td>2023</td>\n",
       "      <td>600 KEY ST</td>\n",
       "      <td>35.256409</td>\n",
       "      <td>-80.890667</td>\n",
       "      <td>Freedom</td>\n",
       "      <td>2023/09/14 00:00:00+00</td>\n",
       "      <td>Location of occurrence</td>\n",
       "      <td>Indoors</td>\n",
       "      <td>Residential</td>\n",
       "      <td>Private Residence</td>\n",
       "      <td>Cleared by Arrest</td>\n",
       "      <td>Simple Assault</td>\n",
       "      <td>5</td>\n",
       "    </tr>\n",
       "    <tr>\n",
       "      <th>2</th>\n",
       "      <td>2023</td>\n",
       "      <td>1900 RANDOLPH RD</td>\n",
       "      <td>35.210784</td>\n",
       "      <td>-80.824610</td>\n",
       "      <td>Providence</td>\n",
       "      <td>2023/02/09 00:00:00+00</td>\n",
       "      <td>Location of occurrence</td>\n",
       "      <td>Parking Deck</td>\n",
       "      <td>Public/Non-Residential</td>\n",
       "      <td>Hospital/Medical Facility</td>\n",
       "      <td>Open</td>\n",
       "      <td>Motor Vehicle Theft</td>\n",
       "      <td>6</td>\n",
       "    </tr>\n",
       "    <tr>\n",
       "      <th>3</th>\n",
       "      <td>2023</td>\n",
       "      <td>800 MCALWAY RD</td>\n",
       "      <td>35.189364</td>\n",
       "      <td>-80.793423</td>\n",
       "      <td>Providence</td>\n",
       "      <td>2023/07/18 00:00:00+00</td>\n",
       "      <td>Location of occurrence</td>\n",
       "      <td>Parking Lot</td>\n",
       "      <td>Residential</td>\n",
       "      <td>Apartment/Duplex Private Res</td>\n",
       "      <td>Open</td>\n",
       "      <td>Theft From Motor Vehicle</td>\n",
       "      <td>8</td>\n",
       "    </tr>\n",
       "    <tr>\n",
       "      <th>4</th>\n",
       "      <td>2023</td>\n",
       "      <td>3300 DURHAM LN</td>\n",
       "      <td>35.294751</td>\n",
       "      <td>-80.838000</td>\n",
       "      <td>North</td>\n",
       "      <td>2023/06/15 00:00:00+00</td>\n",
       "      <td>Location of occurrence</td>\n",
       "      <td>Indoors</td>\n",
       "      <td>Residential</td>\n",
       "      <td>Apartment/Duplex Private Res</td>\n",
       "      <td>Exceptionally Cleared</td>\n",
       "      <td>Simple Assault</td>\n",
       "      <td>16</td>\n",
       "    </tr>\n",
       "  </tbody>\n",
       "</table>\n",
       "</div>"
      ],
      "text/plain": [
       "   YEAR             LOCATION  LATITUDE_PUBLIC  LONGITUDE_PUBLIC  \\\n",
       "0  2023  3500 STATESVILLE AV        35.266384        -80.837353   \n",
       "1  2023           600 KEY ST        35.256409        -80.890667   \n",
       "2  2023     1900 RANDOLPH RD        35.210784        -80.824610   \n",
       "3  2023       800 MCALWAY RD        35.189364        -80.793423   \n",
       "4  2023       3300 DURHAM LN        35.294751        -80.838000   \n",
       "\n",
       "  CMPD_PATROL_DIVISION           DATE_REPORTED     ADDRESS_DESCRIPTION  \\\n",
       "0                Metro  2023/08/10 00:00:00+00  Location of occurrence   \n",
       "1              Freedom  2023/09/14 00:00:00+00  Location of occurrence   \n",
       "2           Providence  2023/02/09 00:00:00+00  Location of occurrence   \n",
       "3           Providence  2023/07/18 00:00:00+00  Location of occurrence   \n",
       "4                North  2023/06/15 00:00:00+00  Location of occurrence   \n",
       "\n",
       "  LOCATION_TYPE_DESCRIPTION  PLACE_TYPE_DESCRIPTION  \\\n",
       "0                  Outdoors                  Retail   \n",
       "1                   Indoors             Residential   \n",
       "2              Parking Deck  Public/Non-Residential   \n",
       "3               Parking Lot             Residential   \n",
       "4                   Indoors             Residential   \n",
       "\n",
       "       PLACE_DETAIL_DESCRIPTION       CLEARANCE_STATUS  \\\n",
       "0             Convenience Store      Cleared by Arrest   \n",
       "1             Private Residence      Cleared by Arrest   \n",
       "2     Hospital/Medical Facility                   Open   \n",
       "3  Apartment/Duplex Private Res                   Open   \n",
       "4  Apartment/Duplex Private Res  Exceptionally Cleared   \n",
       "\n",
       "  HIGHEST_NIBRS_DESCRIPTION  OBJECTID  \n",
       "0        Aggravated Assault         4  \n",
       "1            Simple Assault         5  \n",
       "2       Motor Vehicle Theft         6  \n",
       "3  Theft From Motor Vehicle         8  \n",
       "4            Simple Assault        16  "
      ]
     },
     "execution_count": 9,
     "metadata": {},
     "output_type": "execute_result"
    }
   ],
   "source": [
    "logging.info(\"Filtering the 'CLEARANCE_STATUS' column to remove rows with 'Unfounded' as its value\")\n",
    "dataset = dataset[dataset[\"CLEARANCE_STATUS\"] != \"Unfounded\"]\n",
    "dataset.head()"
   ]
  },
  {
   "cell_type": "code",
   "execution_count": 10,
   "id": "a34f90e9-c531-400a-bf87-3ad6fa57576b",
   "metadata": {},
   "outputs": [
    {
     "name": "stderr",
     "output_type": "stream",
     "text": [
      "2024-07-16 20:53:31,992 -  DEBUG -  Reformatting date from 'yyyy/mm/dd 00:00:00+00' to 'mm/dd/yyyy'.\n"
     ]
    }
   ],
   "source": [
    "logging.debug(\"Reformatting date from 'yyyy/mm/dd 00:00:00+00' to 'mm/dd/yyyy'.\")\n",
    "dataset[\"DATE_REPORTED\"] = dataset[\"DATE_REPORTED\"].apply(\n",
    "    lambda x: datetime.strptime(x.split(\" \")[0], \"%Y/%M/%d\").strftime(\"%M-%d-%Y\")\n",
    ")"
   ]
  },
  {
   "cell_type": "markdown",
   "id": "1b4e307f-ccff-4f16-a54e-8012244f23ca",
   "metadata": {},
   "source": [
    "## Data cleaning"
   ]
  },
  {
   "cell_type": "code",
   "execution_count": 12,
   "id": "a366794a-0b0e-4e46-82b1-c026352171c8",
   "metadata": {},
   "outputs": [
    {
     "data": {
      "text/html": [
       "<div>\n",
       "<style scoped>\n",
       "    .dataframe tbody tr th:only-of-type {\n",
       "        vertical-align: middle;\n",
       "    }\n",
       "\n",
       "    .dataframe tbody tr th {\n",
       "        vertical-align: top;\n",
       "    }\n",
       "\n",
       "    .dataframe thead th {\n",
       "        text-align: right;\n",
       "    }\n",
       "</style>\n",
       "<table border=\"1\" class=\"dataframe\">\n",
       "  <thead>\n",
       "    <tr style=\"text-align: right;\">\n",
       "      <th></th>\n",
       "      <th>YEAR</th>\n",
       "      <th>LOCATION</th>\n",
       "      <th>LATITUDE_PUBLIC</th>\n",
       "      <th>LONGITUDE_PUBLIC</th>\n",
       "      <th>CMPD_PATROL_DIVISION</th>\n",
       "      <th>DATE_REPORTED</th>\n",
       "      <th>ADDRESS_DESCRIPTION</th>\n",
       "      <th>LOCATION_TYPE_DESCRIPTION</th>\n",
       "      <th>PLACE_TYPE_DESCRIPTION</th>\n",
       "      <th>PLACE_DETAIL_DESCRIPTION</th>\n",
       "      <th>CLEARANCE_STATUS</th>\n",
       "      <th>HIGHEST_NIBRS_DESCRIPTION</th>\n",
       "      <th>OBJECTID</th>\n",
       "    </tr>\n",
       "  </thead>\n",
       "  <tbody>\n",
       "    <tr>\n",
       "      <th>0</th>\n",
       "      <td>2023</td>\n",
       "      <td>3500 STATESVILLE AV</td>\n",
       "      <td>35.266384</td>\n",
       "      <td>-80.837353</td>\n",
       "      <td>Metro</td>\n",
       "      <td>08-10-2023</td>\n",
       "      <td>Location of occurrence</td>\n",
       "      <td>Outdoors</td>\n",
       "      <td>Retail</td>\n",
       "      <td>Convenience Store</td>\n",
       "      <td>Cleared by Arrest</td>\n",
       "      <td>Aggravated Assault</td>\n",
       "      <td>4</td>\n",
       "    </tr>\n",
       "    <tr>\n",
       "      <th>1</th>\n",
       "      <td>2023</td>\n",
       "      <td>600 KEY ST</td>\n",
       "      <td>35.256409</td>\n",
       "      <td>-80.890667</td>\n",
       "      <td>Freedom</td>\n",
       "      <td>09-14-2023</td>\n",
       "      <td>Location of occurrence</td>\n",
       "      <td>Indoors</td>\n",
       "      <td>Residential</td>\n",
       "      <td>Private Residence</td>\n",
       "      <td>Cleared by Arrest</td>\n",
       "      <td>Simple Assault</td>\n",
       "      <td>5</td>\n",
       "    </tr>\n",
       "  </tbody>\n",
       "</table>\n",
       "</div>"
      ],
      "text/plain": [
       "   YEAR             LOCATION  LATITUDE_PUBLIC  LONGITUDE_PUBLIC  \\\n",
       "0  2023  3500 STATESVILLE AV        35.266384        -80.837353   \n",
       "1  2023           600 KEY ST        35.256409        -80.890667   \n",
       "\n",
       "  CMPD_PATROL_DIVISION DATE_REPORTED     ADDRESS_DESCRIPTION  \\\n",
       "0                Metro    08-10-2023  Location of occurrence   \n",
       "1              Freedom    09-14-2023  Location of occurrence   \n",
       "\n",
       "  LOCATION_TYPE_DESCRIPTION PLACE_TYPE_DESCRIPTION PLACE_DETAIL_DESCRIPTION  \\\n",
       "0                  Outdoors                 Retail        Convenience Store   \n",
       "1                   Indoors            Residential        Private Residence   \n",
       "\n",
       "    CLEARANCE_STATUS HIGHEST_NIBRS_DESCRIPTION  OBJECTID  \n",
       "0  Cleared by Arrest        Aggravated Assault         4  \n",
       "1  Cleared by Arrest            Simple Assault         5  "
      ]
     },
     "execution_count": 12,
     "metadata": {},
     "output_type": "execute_result"
    }
   ],
   "source": [
    "dataset.head(2)"
   ]
  },
  {
   "cell_type": "code",
   "execution_count": 13,
   "id": "995e9292-3d6f-4f71-b023-421c69f8f06d",
   "metadata": {},
   "outputs": [],
   "source": [
    "working_copy = dataset.copy()\n",
    "x = working_copy.to_dict(\"records\")\n",
    "#pprint.pprint(x)"
   ]
  },
  {
   "cell_type": "code",
   "execution_count": 14,
   "id": "54f24be4-b752-4675-807f-13a6969ac200",
   "metadata": {},
   "outputs": [],
   "source": [
    "with open(\"dataset.json\", \"w\") as outfile:\n",
    "    json.dump(x, outfile, indent=4, sort_keys=False)"
   ]
  },
  {
   "cell_type": "code",
   "execution_count": null,
   "id": "efb93c89-8e05-4e8f-8997-0b5027866a53",
   "metadata": {},
   "outputs": [],
   "source": []
  }
 ],
 "metadata": {
  "kernelspec": {
   "display_name": "Python 3 (ipykernel)",
   "language": "python",
   "name": "python3"
  },
  "language_info": {
   "codemirror_mode": {
    "name": "ipython",
    "version": 3
   },
   "file_extension": ".py",
   "mimetype": "text/x-python",
   "name": "python",
   "nbconvert_exporter": "python",
   "pygments_lexer": "ipython3",
   "version": "3.11.7"
  }
 },
 "nbformat": 4,
 "nbformat_minor": 5
}
